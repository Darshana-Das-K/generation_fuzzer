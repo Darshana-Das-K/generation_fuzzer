{
 "cells": [
  {
   "cell_type": "markdown",
   "id": "185e48d3-1bde-4e12-ad9e-aacc6d10e792",
   "metadata": {},
   "source": [
    "# Fuzzing with Structure-aware Fuzzers\n",
    "\n",
    "In this notebook, we demonstrate how to use a generation fuzzer that leverages Kaitai Struct to generate valid binary files from `.ksy` specifications."
   ]
  },
  {
   "cell_type": "markdown",
   "id": "0eff697b-c8ac-4752-81eb-10b51c412369",
   "metadata": {},
   "source": [
    "## What is Kaitai Struct?\n",
    "\n",
    "[Kaitai Struct](https://kaitai.io/) is a declarative language used to describe the structure of binary files. It allows you to:\n",
    "\n",
    "- Define binary formats (.gif, .png, .zip, etc.)\n",
    "- Automatically generate parsers in many programming languages\n",
    "- Use tools to visualize and inspect binary data\n",
    "\n",
    "A `.ksy` file defines the **schema** of the binary file format.\n",
    "\n",
    "In this notebook, we use `.ksy` files as blueprints and **generate valid binary files** from them using a structure-aware generation fuzzer.\n",
    "\n",
    "Let's start with a simple example: the header of a GIF file.\n",
    "\n",
    "Save this as 'gif.ksy'\n",
    "```\n",
    "meta:\n",
    "  id: gif\n",
    "  file-extension: gif\n",
    "  endian: le\n",
    "seq:\n",
    "  - id: header\n",
    "    type: header\n",
    "  - id: logical_screen\n",
    "    type: logical_screen\n",
    "types:\n",
    "  header:\n",
    "    seq:\n",
    "      - id: magic\n",
    "        contents: 'GIF'\n",
    "      - id: version\n",
    "        size: 3\n",
    "  logical_screen:\n",
    "    seq:\n",
    "      - id: image_width\n",
    "        type: u2\n",
    "      - id: image_height\n",
    "        type: u2\n",
    "      - id: flags\n",
    "        type: u1\n",
    "      - id: bg_color_index\n",
    "        type: u1\n",
    "      - id: pixel_aspect_ratio\n",
    "        type: u1\n",
    "```"
   ]
  },
  {
   "cell_type": "markdown",
   "id": "b7e20df6-7922-4ee8-ac59-e7c684f75b98",
   "metadata": {},
   "source": []
  },
  {
   "cell_type": "markdown",
   "id": "0d012f2d-ed72-4b4e-ba17-c145973b6748",
   "metadata": {},
   "source": [
    "import sys"
   ]
  },
  {
   "cell_type": "code",
   "execution_count": 3,
   "id": "19cbe8b8-d21c-4365-9622-d8647b392bf8",
   "metadata": {},
   "outputs": [
    {
     "name": "stdout",
     "output_type": "stream",
     "text": [
      "Dependency graph:  {'records': set()}\n",
      "Processing Order:  ['records']\n",
      "USER DEFINED TYPE IS   record\n",
      "Initial Parent string in find_userdefined data_tree\n",
      "Here1\n",
      "Type entry in handle_type {'seq': [{'id': 'ut_type', 'type': 's4', 'doc': 'Type of login', 'enum': 'entry_type'}, {'id': 'pid', 'type': 'u4', 'doc': 'Process ID of login process'}, {'id': 'line', 'type': 'str', 'encoding': 'UTF-8', 'size': 32, 'doc': 'Devicename'}, {'id': 'id', 'type': 'str', 'encoding': 'UTF-8', 'size': 4, 'doc': 'Inittab ID'}, {'id': 'user', 'type': 'str', 'encoding': 'UTF-8', 'size': 32, 'doc': 'Username'}, {'id': 'host', 'type': 'str', 'encoding': 'UTF-8', 'size': 256, 'doc': 'Hostname for remote login'}, {'id': 'exit', 'type': 'u4', 'doc': 'Exit status of a process marked as DEAD_PROCESS'}, {'id': 'session', 'type': 's4', 'doc': 'Session ID, used for windowing'}, {'id': 'tv', 'type': 'timeval', 'doc': 'Time entry was made'}, {'id': 'addr_v6', 'size': 16, 'doc': 'Internet address of remote host'}, {'id': 'reserved', 'size': 20}]}\n",
      "Dependency graph:  {'line': set(), 'id': set(), 'user': set(), 'host': set(), 'addr_v6': set(), 'reserved': set(), 'ut_type': set(), 'pid': set(), 'exit': set(), 'session': set(), 'tv': set()}\n",
      "Processing Order:  ['line', 'id', 'user', 'host', 'addr_v6', 'reserved', 'ut_type', 'pid', 'exit', 'session', 'tv']\n",
      "USER DEFINED TYPE IS   timeval\n",
      "Initial Parent string in find_userdefined data_tree['types']['record']\n",
      "Initial Parent string in find_userdefined data_tree\n",
      "Here1\n",
      "Type entry in handle_type {'seq': [{'id': 'sec', 'type': 's4', 'doc': 'Seconds'}, {'id': 'usec', 'type': 's4', 'doc': 'Microseconds'}]}\n",
      "Dependency graph:  {'sec': set(), 'usec': set()}\n",
      "Processing Order:  ['sec', 'usec']\n",
      "USER DEFINED TYPE IS   record\n",
      "Initial Parent string in find_userdefined data_tree\n",
      "Here1\n",
      "Type entry in handle_type {'seq': [{'id': 'ut_type', 'type': 's4', 'doc': 'Type of login', 'enum': 'entry_type', 'expansion': b'\\t\\x00\\x00\\x00'}, {'id': 'pid', 'type': 'u4', 'doc': 'Process ID of login process', 'expansion': b'\\x1f#\\x8e#'}, {'id': 'line', 'type': 'str', 'encoding': 'UTF-8', 'size': 32, 'doc': 'Devicename', 'expansion': b'J~kr,w$i*J(S!5n0j9AT\"Qg.yGs~|P(8'}, {'id': 'id', 'type': 'str', 'encoding': 'UTF-8', 'size': 4, 'doc': 'Inittab ID', 'expansion': b'1KB*'}, {'id': 'user', 'type': 'str', 'encoding': 'UTF-8', 'size': 32, 'doc': 'Username', 'expansion': b':-vdM2k,o:1XN#hBiyYp&p2Z%c:R:*BZ'}, {'id': 'host', 'type': 'str', 'encoding': 'UTF-8', 'size': 256, 'doc': 'Hostname for remote login', 'expansion': b'B?*#k@)SHc~y|0d@\\'W~4x24}W$#^4k_-GP},M-]oyQ!?4Rta3vtaM/KFB>XG8aFZK\\'g<c=@wMTEQjd0)/^fEykeo^1Xi_coP6)r\"9V{yVDe1XL<7\\\\;3Ge|A0Ck`{mju5/!ps![ZdQWx)qKr`1\"|CgKuajIP#~x0*WcE/`A9\\'T<s8:ioT5a:K>cy;LD[o.X)n3bFIgj\\'|)NylB>ao<9[gKd$n`agjgy;>o!]i#FNi]8KZ?:NzlA_edA,.DTL;q9>O'}, {'id': 'exit', 'type': 'u4', 'doc': 'Exit status of a process marked as DEAD_PROCESS', 'expansion': b'\\xf3\\xb4\\xcek'}, {'id': 'session', 'type': 's4', 'doc': 'Session ID, used for windowing', 'expansion': b'\\x1c\\r\\xdb\\xde'}, {'id': 'tv', 'type': 'timeval', 'doc': 'Time entry was made', 'expansion': b'\\x80\\xba\\x9b)K\\xbe\\xe8\\xcc'}, {'id': 'addr_v6', 'size': 16, 'doc': 'Internet address of remote host', 'expansion': b'\\xf8\\x0f\\xb3d\\x91\\xe2\\xc2\\x0e\\xb4\\x1eMR\\xd7Uq\\xc3'}, {'id': 'reserved', 'size': 20, 'expansion': b'\\xdc|0\\x89\\xb3.\\xa5\\xe2\\xa9j\\x87C\\x1a\\x15bb\\xd5P\\xd9\\xa5'}], 'expansion': b'\\t\\x00\\x00\\x00\\x1f#\\x8e#J~kr,w$i*J(S!5n0j9AT\"Qg.yGs~|P(81KB*:-vdM2k,o:1XN#hBiyYp&p2Z%c:R:*BZB?*#k@)SHc~y|0d@\\'W~4x24}W$#^4k_-GP},M-]oyQ!?4Rta3vtaM/KFB>XG8aFZK\\'g<c=@wMTEQjd0)/^fEykeo^1Xi_coP6)r\"9V{yVDe1XL<7\\\\;3Ge|A0Ck`{mju5/!ps![ZdQWx)qKr`1\"|CgKuajIP#~x0*WcE/`A9\\'T<s8:ioT5a:K>cy;LD[o.X)n3bFIgj\\'|)NylB>ao<9[gKd$n`agjgy;>o!]i#FNi]8KZ?:NzlA_edA,.DTL;q9>O\\xf3\\xb4\\xcek\\x1c\\r\\xdb\\xde\\x80\\xba\\x9b)K\\xbe\\xe8\\xcc\\xf8\\x0f\\xb3d\\x91\\xe2\\xc2\\x0e\\xb4\\x1eMR\\xd7Uq\\xc3\\xdc|0\\x89\\xb3.\\xa5\\xe2\\xa9j\\x87C\\x1a\\x15bb\\xd5P\\xd9\\xa5'}\n",
      "Dependency graph:  {'line': set(), 'id': set(), 'user': set(), 'host': set(), 'addr_v6': set(), 'reserved': set(), 'ut_type': set(), 'pid': set(), 'exit': set(), 'session': set(), 'tv': set()}\n",
      "Processing Order:  ['line', 'id', 'user', 'host', 'addr_v6', 'reserved', 'ut_type', 'pid', 'exit', 'session', 'tv']\n",
      "USER DEFINED TYPE IS   timeval\n",
      "Initial Parent string in find_userdefined data_tree['types']['record']\n",
      "Initial Parent string in find_userdefined data_tree\n",
      "Here1\n",
      "Type entry in handle_type {'seq': [{'id': 'sec', 'type': 's4', 'doc': 'Seconds', 'expansion': b'\\x80\\xba\\x9b)'}, {'id': 'usec', 'type': 's4', 'doc': 'Microseconds', 'expansion': b'K\\xbe\\xe8\\xcc'}], 'expansion': b'\\x80\\xba\\x9b)K\\xbe\\xe8\\xcc'}\n",
      "Dependency graph:  {'sec': set(), 'usec': set()}\n",
      "Processing Order:  ['sec', 'usec']\n",
      "USER DEFINED TYPE IS   record\n",
      "Initial Parent string in find_userdefined data_tree\n",
      "Here1\n",
      "Type entry in handle_type {'seq': [{'id': 'ut_type', 'type': 's4', 'doc': 'Type of login', 'enum': 'entry_type', 'expansion': b'\\x07\\x00\\x00\\x00'}, {'id': 'pid', 'type': 'u4', 'doc': 'Process ID of login process', 'expansion': b'\\x0b\\xe6\\x92\\x83'}, {'id': 'line', 'type': 'str', 'encoding': 'UTF-8', 'size': 32, 'doc': 'Devicename', 'expansion': b'4)P>pS>*M.HvfS@n.gkPh{gygFK\\\\Gd$5'}, {'id': 'id', 'type': 'str', 'encoding': 'UTF-8', 'size': 4, 'doc': 'Inittab ID', 'expansion': b'PL,)'}, {'id': 'user', 'type': 'str', 'encoding': 'UTF-8', 'size': 32, 'doc': 'Username', 'expansion': b'NonjAe/-J^)6g;SQjhg<,\\'fw-<\")D~Y+'}, {'id': 'host', 'type': 'str', 'encoding': 'UTF-8', 'size': 256, 'doc': 'Hostname for remote login', 'expansion': b'Iyz!6a8}z:I\\'{yIbIbYwt:vM%f,wj5pS?vo.+5KqVb{l^{i5kdyPLq6\\'1PH]W{lJRy9>(:LLq6W+mR\"=(K9?yHk)6)2E~pZPPRik3S|l^Yy@/&~@gNOgQpzz>eo49m9#E`>`R#XxO}bRT<\\'|3/{tAcL;Y-&^k}2~ro@0smK6Gzi!Dmot)UgZJ`e(ncd5fF$Y-Lc![6($B5$mlA/LVK[@/Pn(fJ$ce\\'Z6nhN{GG5u+;EZUib0,*gbVUUo|a`r1z:P'}, {'id': 'exit', 'type': 'u4', 'doc': 'Exit status of a process marked as DEAD_PROCESS', 'expansion': b'\\x08\\x08\\x9c>'}, {'id': 'session', 'type': 's4', 'doc': 'Session ID, used for windowing', 'expansion': b'\\x8d\\xe8\\xa2\\x9a'}, {'id': 'tv', 'type': 'timeval', 'doc': 'Time entry was made', 'expansion': b'\\xfb\\x08\\xc2\\xedS\\xb8\\x94\\x81'}, {'id': 'addr_v6', 'size': 16, 'doc': 'Internet address of remote host', 'expansion': b'Cs\\xe9t\\xa7\\xb7[\\xbdF\\xe5\\x18&$\\xd4\\x12!'}, {'id': 'reserved', 'size': 20, 'expansion': b\"\\xca\\n\\xc6\\x7fR'$a\\x0fA\\x1f*\\xbfD\\xfa\\xce\\x99\\x16q\\xa4\"}], 'expansion': b'\\x07\\x00\\x00\\x00\\x0b\\xe6\\x92\\x834)P>pS>*M.HvfS@n.gkPh{gygFK\\\\Gd$5PL,)NonjAe/-J^)6g;SQjhg<,\\'fw-<\")D~Y+Iyz!6a8}z:I\\'{yIbIbYwt:vM%f,wj5pS?vo.+5KqVb{l^{i5kdyPLq6\\'1PH]W{lJRy9>(:LLq6W+mR\"=(K9?yHk)6)2E~pZPPRik3S|l^Yy@/&~@gNOgQpzz>eo49m9#E`>`R#XxO}bRT<\\'|3/{tAcL;Y-&^k}2~ro@0smK6Gzi!Dmot)UgZJ`e(ncd5fF$Y-Lc![6($B5$mlA/LVK[@/Pn(fJ$ce\\'Z6nhN{GG5u+;EZUib0,*gbVUUo|a`r1z:P\\x08\\x08\\x9c>\\x8d\\xe8\\xa2\\x9a\\xfb\\x08\\xc2\\xedS\\xb8\\x94\\x81Cs\\xe9t\\xa7\\xb7[\\xbdF\\xe5\\x18&$\\xd4\\x12!\\xca\\n\\xc6\\x7fR\\'$a\\x0fA\\x1f*\\xbfD\\xfa\\xce\\x99\\x16q\\xa4'}\n",
      "Dependency graph:  {'line': set(), 'id': set(), 'user': set(), 'host': set(), 'addr_v6': set(), 'reserved': set(), 'ut_type': set(), 'pid': set(), 'exit': set(), 'session': set(), 'tv': set()}\n",
      "Processing Order:  ['line', 'id', 'user', 'host', 'addr_v6', 'reserved', 'ut_type', 'pid', 'exit', 'session', 'tv']\n",
      "USER DEFINED TYPE IS   timeval\n",
      "Initial Parent string in find_userdefined data_tree['types']['record']\n",
      "Initial Parent string in find_userdefined data_tree\n",
      "Here1\n",
      "Type entry in handle_type {'seq': [{'id': 'sec', 'type': 's4', 'doc': 'Seconds', 'expansion': b'\\xfb\\x08\\xc2\\xed'}, {'id': 'usec', 'type': 's4', 'doc': 'Microseconds', 'expansion': b'S\\xb8\\x94\\x81'}], 'expansion': b'\\xfb\\x08\\xc2\\xedS\\xb8\\x94\\x81'}\n",
      "Dependency graph:  {'sec': set(), 'usec': set()}\n",
      "Processing Order:  ['sec', 'usec']\n",
      "USER DEFINED TYPE IS   record\n",
      "Initial Parent string in find_userdefined data_tree\n",
      "Here1\n",
      "Type entry in handle_type {'seq': [{'id': 'ut_type', 'type': 's4', 'doc': 'Type of login', 'enum': 'entry_type', 'expansion': b'\\x03\\x00\\x00\\x00'}, {'id': 'pid', 'type': 'u4', 'doc': 'Process ID of login process', 'expansion': b'\\xa6\\x88z~'}, {'id': 'line', 'type': 'str', 'encoding': 'UTF-8', 'size': 32, 'doc': 'Devicename', 'expansion': b'./zgk3_g^jt%0&2WKFZIt|qmXx=akW|5'}, {'id': 'id', 'type': 'str', 'encoding': 'UTF-8', 'size': 4, 'doc': 'Inittab ID', 'expansion': b'OyH|'}, {'id': 'user', 'type': 'str', 'encoding': 'UTF-8', 'size': 32, 'doc': 'Username', 'expansion': b'a=C\"F;g*UZP8fYXe&|-t;|}#&TTYcEua'}, {'id': 'host', 'type': 'str', 'encoding': 'UTF-8', 'size': 256, 'doc': 'Hostname for remote login', 'expansion': b'%eJ)TIqd)Yhz,vy$QDnPp\\'C/qeY_{ug~bMTT5hDPiyRoptQJ<~bpaWyl[v)c7;nH*-7-~WcMvZ\\':x[YHQe\"4z-tYi6ReZzWzZ{4;duxqa]&l:Lb)0I+gKc$\\'\\\\cef\\'),$U:sPL^4#wAwJA>EU]]?/as!BLA42>a\\'Eu~3\\\\JC79$6-<[W_933F?-f*m\\'dLN\"5+Twa3MyqNI.Vdj,Ox3{\\\\LZPg_ebBtPeOK[j\"\"\\\\1^yjT=ij{zl-<p0\\'V3Oi**AuP7C['}, {'id': 'exit', 'type': 'u4', 'doc': 'Exit status of a process marked as DEAD_PROCESS', 'expansion': b'\\xa4B\\xc6\\xc0'}, {'id': 'session', 'type': 's4', 'doc': 'Session ID, used for windowing', 'expansion': b'\\xee\\x0c\\xad_'}, {'id': 'tv', 'type': 'timeval', 'doc': 'Time entry was made', 'expansion': b'X\\xeb\\xb9\\xa6Q$${'}, {'id': 'addr_v6', 'size': 16, 'doc': 'Internet address of remote host', 'expansion': b'q\\xc5\\xf4G\\xd1\\xddz\\xd0\\xe9\\xaf\\x1f\\xe2\\xe9QF\\x13'}, {'id': 'reserved', 'size': 20, 'expansion': b';\\xc2\\x0b\\x04\\xe3\\xd5\\x8aB\\x8aiN\\xd7+a\\xe2\\x191N\\xc1]'}], 'expansion': b'\\x03\\x00\\x00\\x00\\xa6\\x88z~./zgk3_g^jt%0&2WKFZIt|qmXx=akW|5OyH|a=C\"F;g*UZP8fYXe&|-t;|}#&TTYcEua%eJ)TIqd)Yhz,vy$QDnPp\\'C/qeY_{ug~bMTT5hDPiyRoptQJ<~bpaWyl[v)c7;nH*-7-~WcMvZ\\':x[YHQe\"4z-tYi6ReZzWzZ{4;duxqa]&l:Lb)0I+gKc$\\'\\\\cef\\'),$U:sPL^4#wAwJA>EU]]?/as!BLA42>a\\'Eu~3\\\\JC79$6-<[W_933F?-f*m\\'dLN\"5+Twa3MyqNI.Vdj,Ox3{\\\\LZPg_ebBtPeOK[j\"\"\\\\1^yjT=ij{zl-<p0\\'V3Oi**AuP7C[\\xa4B\\xc6\\xc0\\xee\\x0c\\xad_X\\xeb\\xb9\\xa6Q$${q\\xc5\\xf4G\\xd1\\xddz\\xd0\\xe9\\xaf\\x1f\\xe2\\xe9QF\\x13;\\xc2\\x0b\\x04\\xe3\\xd5\\x8aB\\x8aiN\\xd7+a\\xe2\\x191N\\xc1]'}\n",
      "Dependency graph:  {'line': set(), 'id': set(), 'user': set(), 'host': set(), 'addr_v6': set(), 'reserved': set(), 'ut_type': set(), 'pid': set(), 'exit': set(), 'session': set(), 'tv': set()}\n",
      "Processing Order:  ['line', 'id', 'user', 'host', 'addr_v6', 'reserved', 'ut_type', 'pid', 'exit', 'session', 'tv']\n",
      "USER DEFINED TYPE IS   timeval\n",
      "Initial Parent string in find_userdefined data_tree['types']['record']\n",
      "Initial Parent string in find_userdefined data_tree\n",
      "Here1\n",
      "Type entry in handle_type {'seq': [{'id': 'sec', 'type': 's4', 'doc': 'Seconds', 'expansion': b'X\\xeb\\xb9\\xa6'}, {'id': 'usec', 'type': 's4', 'doc': 'Microseconds', 'expansion': b'Q$${'}], 'expansion': b'X\\xeb\\xb9\\xa6Q$${'}\n",
      "Dependency graph:  {'sec': set(), 'usec': set()}\n",
      "Processing Order:  ['sec', 'usec']\n",
      "Final answer:   {'meta': {'id': 'glibc_utmp', 'title': 'utmp log file, Linux/glibc version', 'xref': {'wikidata': 'Q3570128'}, 'tags': ['linux', 'log'], 'license': 'CC0-1.0', 'endian': 'le'}, 'seq': [{'id': 'records', 'size': 384, 'type': 'record', 'repeat': 'eos', 'expansion': b'\\t\\x00\\x00\\x00\\x1f#\\x8e#J~kr,w$i*J(S!5n0j9AT\"Qg.yGs~|P(81KB*:-vdM2k,o:1XN#hBiyYp&p2Z%c:R:*BZB?*#k@)SHc~y|0d@\\'W~4x24}W$#^4k_-GP},M-]oyQ!?4Rta3vtaM/KFB>XG8aFZK\\'g<c=@wMTEQjd0)/^fEykeo^1Xi_coP6)r\"9V{yVDe1XL<7\\\\;3Ge|A0Ck`{mju5/!ps![ZdQWx)qKr`1\"|CgKuajIP#~x0*WcE/`A9\\'T<s8:ioT5a:K>cy;LD[o.X)n3bFIgj\\'|)NylB>ao<9[gKd$n`agjgy;>o!]i#FNi]8KZ?:NzlA_edA,.DTL;q9>O\\xf3\\xb4\\xcek\\x1c\\r\\xdb\\xde\\x80\\xba\\x9b)K\\xbe\\xe8\\xcc\\xf8\\x0f\\xb3d\\x91\\xe2\\xc2\\x0e\\xb4\\x1eMR\\xd7Uq\\xc3\\xdc|0\\x89\\xb3.\\xa5\\xe2\\xa9j\\x87C\\x1a\\x15bb\\xd5P\\xd9\\xa5\\x07\\x00\\x00\\x00\\x0b\\xe6\\x92\\x834)P>pS>*M.HvfS@n.gkPh{gygFK\\\\Gd$5PL,)NonjAe/-J^)6g;SQjhg<,\\'fw-<\")D~Y+Iyz!6a8}z:I\\'{yIbIbYwt:vM%f,wj5pS?vo.+5KqVb{l^{i5kdyPLq6\\'1PH]W{lJRy9>(:LLq6W+mR\"=(K9?yHk)6)2E~pZPPRik3S|l^Yy@/&~@gNOgQpzz>eo49m9#E`>`R#XxO}bRT<\\'|3/{tAcL;Y-&^k}2~ro@0smK6Gzi!Dmot)UgZJ`e(ncd5fF$Y-Lc![6($B5$mlA/LVK[@/Pn(fJ$ce\\'Z6nhN{GG5u+;EZUib0,*gbVUUo|a`r1z:P\\x08\\x08\\x9c>\\x8d\\xe8\\xa2\\x9a\\xfb\\x08\\xc2\\xedS\\xb8\\x94\\x81Cs\\xe9t\\xa7\\xb7[\\xbdF\\xe5\\x18&$\\xd4\\x12!\\xca\\n\\xc6\\x7fR\\'$a\\x0fA\\x1f*\\xbfD\\xfa\\xce\\x99\\x16q\\xa4\\x03\\x00\\x00\\x00\\xa6\\x88z~./zgk3_g^jt%0&2WKFZIt|qmXx=akW|5OyH|a=C\"F;g*UZP8fYXe&|-t;|}#&TTYcEua%eJ)TIqd)Yhz,vy$QDnPp\\'C/qeY_{ug~bMTT5hDPiyRoptQJ<~bpaWyl[v)c7;nH*-7-~WcMvZ\\':x[YHQe\"4z-tYi6ReZzWzZ{4;duxqa]&l:Lb)0I+gKc$\\'\\\\cef\\'),$U:sPL^4#wAwJA>EU]]?/as!BLA42>a\\'Eu~3\\\\JC79$6-<[W_933F?-f*m\\'dLN\"5+Twa3MyqNI.Vdj,Ox3{\\\\LZPg_ebBtPeOK[j\"\"\\\\1^yjT=ij{zl-<p0\\'V3Oi**AuP7C[\\xa4B\\xc6\\xc0\\xee\\x0c\\xad_X\\xeb\\xb9\\xa6Q$${q\\xc5\\xf4G\\xd1\\xddz\\xd0\\xe9\\xaf\\x1f\\xe2\\xe9QF\\x13;\\xc2\\x0b\\x04\\xe3\\xd5\\x8aB\\x8aiN\\xd7+a\\xe2\\x191N\\xc1]\\x02\\x00\\x00\\x00\\xaf\\xbd>\\xf8vB|xr_=-Yc%3uK,r7}b_yQj]qfwT.do@1?&.MT0\\\\z?gf#Q@ory4VOD>JQsqx^//LF&SJ=BK3]6i|xki.L!uG?g,OY-9-#o8-ZcD%:+}n?cWzhyl2F($)XpwV3jtyz4K<P59uub-&K|VO9VO7vpJ+jsD=t=r[.*uD4}--5-vB*x0-J_ielUfR~zyPKL[*5Up!N\\'mE)>vRFZ,CCu\"kM2qynH6M$2||4ZzfE%PE&WhWM|3^psaPG$#39m*6[BcR\\\\8y)nkM52~8?VM#_DWV>jB]Zx\\\\\\\\un}alvb9%Ve[vGU9{do.T8n3-mwryxLaN{Q.)bX4(R,P0XD\\x16\\xfcA\\\\\\xf26\\xc54Z\\xcf\\x83\\t1^\\x7fSn1\\xfcO\\xe2u\\x91\\xad\\xb7\\xc9f\\xce\\x90e>p\\xfe\\xf5\\x17\\x08\\xd8\\x97\\x8e0\\x98\\x94\\x84\\x1f\\x92\\x1d\\xdb\\x85}\\x07'}], 'types': {'record': {'seq': [{'id': 'ut_type', 'type': 's4', 'doc': 'Type of login', 'enum': 'entry_type', 'expansion': b'\\x02\\x00\\x00\\x00'}, {'id': 'pid', 'type': 'u4', 'doc': 'Process ID of login process', 'expansion': b'\\xaf\\xbd>\\xf8'}, {'id': 'line', 'type': 'str', 'encoding': 'UTF-8', 'size': 32, 'doc': 'Devicename', 'expansion': b'vB|xr_=-Yc%3uK,r7}b_yQj]qfwT.do@'}, {'id': 'id', 'type': 'str', 'encoding': 'UTF-8', 'size': 4, 'doc': 'Inittab ID', 'expansion': b'1?&.'}, {'id': 'user', 'type': 'str', 'encoding': 'UTF-8', 'size': 32, 'doc': 'Username', 'expansion': b'MT0\\\\z?gf#Q@ory4VOD>JQsqx^//LF&SJ'}, {'id': 'host', 'type': 'str', 'encoding': 'UTF-8', 'size': 256, 'doc': 'Hostname for remote login', 'expansion': b'=BK3]6i|xki.L!uG?g,OY-9-#o8-ZcD%:+}n?cWzhyl2F($)XpwV3jtyz4K<P59uub-&K|VO9VO7vpJ+jsD=t=r[.*uD4}--5-vB*x0-J_ielUfR~zyPKL[*5Up!N\\'mE)>vRFZ,CCu\"kM2qynH6M$2||4ZzfE%PE&WhWM|3^psaPG$#39m*6[BcR\\\\8y)nkM52~8?VM#_DWV>jB]Zx\\\\\\\\un}alvb9%Ve[vGU9{do.T8n3-mwryxLaN{Q.)bX4(R,P0'}, {'id': 'exit', 'type': 'u4', 'doc': 'Exit status of a process marked as DEAD_PROCESS', 'expansion': b'XD\\x16\\xfc'}, {'id': 'session', 'type': 's4', 'doc': 'Session ID, used for windowing', 'expansion': b'A\\\\\\xf26'}, {'id': 'tv', 'type': 'timeval', 'doc': 'Time entry was made', 'expansion': b'\\xc54Z\\xcf\\x83\\t1^'}, {'id': 'addr_v6', 'size': 16, 'doc': 'Internet address of remote host', 'expansion': b'\\x7fSn1\\xfcO\\xe2u\\x91\\xad\\xb7\\xc9f\\xce\\x90e'}, {'id': 'reserved', 'size': 20, 'expansion': b'>p\\xfe\\xf5\\x17\\x08\\xd8\\x97\\x8e0\\x98\\x94\\x84\\x1f\\x92\\x1d\\xdb\\x85}\\x07'}], 'expansion': b'\\x02\\x00\\x00\\x00\\xaf\\xbd>\\xf8vB|xr_=-Yc%3uK,r7}b_yQj]qfwT.do@1?&.MT0\\\\z?gf#Q@ory4VOD>JQsqx^//LF&SJ=BK3]6i|xki.L!uG?g,OY-9-#o8-ZcD%:+}n?cWzhyl2F($)XpwV3jtyz4K<P59uub-&K|VO9VO7vpJ+jsD=t=r[.*uD4}--5-vB*x0-J_ielUfR~zyPKL[*5Up!N\\'mE)>vRFZ,CCu\"kM2qynH6M$2||4ZzfE%PE&WhWM|3^psaPG$#39m*6[BcR\\\\8y)nkM52~8?VM#_DWV>jB]Zx\\\\\\\\un}alvb9%Ve[vGU9{do.T8n3-mwryxLaN{Q.)bX4(R,P0XD\\x16\\xfcA\\\\\\xf26\\xc54Z\\xcf\\x83\\t1^\\x7fSn1\\xfcO\\xe2u\\x91\\xad\\xb7\\xc9f\\xce\\x90e>p\\xfe\\xf5\\x17\\x08\\xd8\\x97\\x8e0\\x98\\x94\\x84\\x1f\\x92\\x1d\\xdb\\x85}\\x07'}, 'timeval': {'seq': [{'id': 'sec', 'type': 's4', 'doc': 'Seconds', 'expansion': b'\\xc54Z\\xcf'}, {'id': 'usec', 'type': 's4', 'doc': 'Microseconds', 'expansion': b'\\x83\\t1^'}], 'expansion': b'\\xc54Z\\xcf\\x83\\t1^'}}, 'enums': {'entry_type': {0: 'empty', 1: 'run_lvl', 2: 'boot_time', 3: 'new_time', 4: 'old_time', 5: 'init_process', 6: 'login_process', 7: 'user_process', 8: 'dead_process', 9: 'accounting'}}}\n"
     ]
    }
   ],
   "source": [
    "from generation_fuzzer_main import write_leaf_values_to_file"
   ]
  },
  {
   "cell_type": "code",
   "execution_count": null,
   "id": "13e0047b-01c3-4c27-a339-769628ad5705",
   "metadata": {},
   "outputs": [],
   "source": []
  }
 ],
 "metadata": {
  "kernelspec": {
   "display_name": "Python 3 (ipykernel)",
   "language": "python",
   "name": "python3"
  },
  "language_info": {
   "codemirror_mode": {
    "name": "ipython",
    "version": 3
   },
   "file_extension": ".py",
   "mimetype": "text/x-python",
   "name": "python",
   "nbconvert_exporter": "python",
   "pygments_lexer": "ipython3",
   "version": "3.11.4"
  }
 },
 "nbformat": 4,
 "nbformat_minor": 5
}
